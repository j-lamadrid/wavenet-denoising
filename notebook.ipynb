{
 "cells": [
  {
   "cell_type": "code",
   "execution_count": null,
   "id": "bbb7932d",
   "metadata": {},
   "outputs": [],
   "source": [
    "import torch\n",
    "from wavenet_model import WaveNetModel\n",
    "import preprocess\n",
    "import optimizer"
   ]
  },
  {
   "cell_type": "code",
   "execution_count": null,
   "id": "39f0a869",
   "metadata": {},
   "outputs": [],
   "source": [
    "device = 'cuda' if torch.cuda.is_available() else 'cpu'"
   ]
  },
  {
   "cell_type": "code",
   "execution_count": null,
   "id": "7277dd48",
   "metadata": {},
   "outputs": [],
   "source": [
    "# train_mix, train_noise, train_vocals = preprocess.process_musdb('train')\n",
    "mix, speech = preprocess.process_speech()"
   ]
  },
  {
   "cell_type": "code",
   "execution_count": null,
   "id": "e2e4d7d5",
   "metadata": {},
   "outputs": [],
   "source": [
    "model = WaveNetModel(layers=4,\n",
    "                     blocks=2,\n",
    "                     dilation_channels=64,\n",
    "                     residual_channels=64,\n",
    "                     skip_channels=128,\n",
    "                     end_channels=128,\n",
    "                     classes=1,\n",
    "                     output_length=0,\n",
    "                     kernel_size=2,\n",
    "                     dtype=torch.FloatTensor,\n",
    "                     bias=False).to(device)"
   ]
  },
  {
   "cell_type": "code",
   "execution_count": null,
   "id": "b1e7ae1b",
   "metadata": {},
   "outputs": [],
   "source": [
    "optimizer.optimize(model, mix, speech, False)"
   ]
  },
  {
   "cell_type": "code",
   "execution_count": null,
   "id": "a405527b",
   "metadata": {},
   "outputs": [],
   "source": [
    "model.state_dict()"
   ]
  }
 ],
 "metadata": {
  "kernelspec": {
   "display_name": "Python 3 (ipykernel)",
   "language": "python",
   "name": "python3"
  },
  "language_info": {
   "codemirror_mode": {
    "name": "ipython",
    "version": 3
   },
   "file_extension": ".py",
   "mimetype": "text/x-python",
   "name": "python",
   "nbconvert_exporter": "python",
   "pygments_lexer": "ipython3",
   "version": "3.9.5"
  }
 },
 "nbformat": 4,
 "nbformat_minor": 5
}
