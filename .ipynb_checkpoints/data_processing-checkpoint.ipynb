{
 "cells": [
  {
   "cell_type": "code",
   "execution_count": 1,
   "id": "a8abcaba",
   "metadata": {},
   "outputs": [],
   "source": [
    "import os\n",
    "from IPython.display import Audio, display\n",
    "\n",
    "import musdb"
   ]
  },
  {
   "cell_type": "code",
   "execution_count": 4,
   "id": "2b5ab18d",
   "metadata": {},
   "outputs": [],
   "source": [
    "mus = musdb.DB(root='musdb18')\n",
    "mus.sample_rate"
   ]
  },
  {
   "cell_type": "code",
   "execution_count": 8,
   "id": "4ce2be29",
   "metadata": {},
   "outputs": [],
   "source": [
    "train = mus.load_mus_tracks(subsets='train')"
   ]
  },
  {
   "cell_type": "code",
   "execution_count": 28,
   "id": "20eda7e9",
   "metadata": {},
   "outputs": [
    {
     "ename": "TypeError",
     "evalue": "read_stems() got an unexpected keyword argument 'sample_rate'",
     "output_type": "error",
     "traceback": [
      "\u001b[1;31m---------------------------------------------------------------------------\u001b[0m",
      "\u001b[1;31mTypeError\u001b[0m                                 Traceback (most recent call last)",
      "Cell \u001b[1;32mIn[28], line 1\u001b[0m\n\u001b[1;32m----> 1\u001b[0m train[\u001b[38;5;241m0\u001b[39m]\u001b[38;5;241m.\u001b[39mstems\n",
      "File \u001b[1;32m~\\anaconda3\\Lib\\site-packages\\musdb\\audio_classes.py:161\u001b[0m, in \u001b[0;36mMultiTrack.stems\u001b[1;34m(self)\u001b[0m\n\u001b[0;32m    158\u001b[0m \u001b[38;5;66;03m# read from disk to save RAM otherwise\u001b[39;00m\n\u001b[0;32m    159\u001b[0m \u001b[38;5;28;01melse\u001b[39;00m:\n\u001b[0;32m    160\u001b[0m     \u001b[38;5;28;01mif\u001b[39;00m \u001b[38;5;129;01mnot\u001b[39;00m \u001b[38;5;28mself\u001b[39m\u001b[38;5;241m.\u001b[39mis_wav \u001b[38;5;129;01mand\u001b[39;00m os\u001b[38;5;241m.\u001b[39mpath\u001b[38;5;241m.\u001b[39mexists(\u001b[38;5;28mself\u001b[39m\u001b[38;5;241m.\u001b[39mpath):\n\u001b[1;32m--> 161\u001b[0m         S, rate \u001b[38;5;241m=\u001b[39m stempeg\u001b[38;5;241m.\u001b[39mread_stems(\n\u001b[0;32m    162\u001b[0m             filename\u001b[38;5;241m=\u001b[39m\u001b[38;5;28mself\u001b[39m\u001b[38;5;241m.\u001b[39mpath,\n\u001b[0;32m    163\u001b[0m             start\u001b[38;5;241m=\u001b[39m\u001b[38;5;28mself\u001b[39m\u001b[38;5;241m.\u001b[39mchunk_start,\n\u001b[0;32m    164\u001b[0m             duration\u001b[38;5;241m=\u001b[39m\u001b[38;5;28mself\u001b[39m\u001b[38;5;241m.\u001b[39mchunk_duration,\n\u001b[0;32m    165\u001b[0m             info\u001b[38;5;241m=\u001b[39m\u001b[38;5;28mself\u001b[39m\u001b[38;5;241m.\u001b[39minfo,\n\u001b[0;32m    166\u001b[0m             sample_rate\u001b[38;5;241m=\u001b[39m\u001b[38;5;28mself\u001b[39m\u001b[38;5;241m.\u001b[39msample_rate,\n\u001b[0;32m    167\u001b[0m             ffmpeg_format\u001b[38;5;241m=\u001b[39m\u001b[38;5;124m\"\u001b[39m\u001b[38;5;124ms16le\u001b[39m\u001b[38;5;124m\"\u001b[39m\n\u001b[0;32m    168\u001b[0m         )\n\u001b[0;32m    169\u001b[0m     \u001b[38;5;28;01melse\u001b[39;00m:\n\u001b[0;32m    170\u001b[0m         rate \u001b[38;5;241m=\u001b[39m \u001b[38;5;28mself\u001b[39m\u001b[38;5;241m.\u001b[39mrate\n",
      "\u001b[1;31mTypeError\u001b[0m: read_stems() got an unexpected keyword argument 'sample_rate'"
     ]
    }
   ],
   "source": [
    "train[0].stems"
   ]
  },
  {
   "cell_type": "code",
   "execution_count": 27,
   "id": "e8ca6a00",
   "metadata": {},
   "outputs": [
    {
     "data": {
      "text/plain": [
       "'NightOwl'"
      ]
     },
     "execution_count": 27,
     "metadata": {},
     "output_type": "execute_result"
    }
   ],
   "source": [
    "train[0].title"
   ]
  },
  {
   "cell_type": "code",
   "execution_count": 17,
   "id": "e5c42957",
   "metadata": {},
   "outputs": [
    {
     "ename": "TypeError",
     "evalue": "read_stems() got an unexpected keyword argument 'sample_rate'",
     "output_type": "error",
     "traceback": [
      "\u001b[1;31m---------------------------------------------------------------------------\u001b[0m",
      "\u001b[1;31mTypeError\u001b[0m                                 Traceback (most recent call last)",
      "Cell \u001b[1;32mIn[17], line 1\u001b[0m\n\u001b[1;32m----> 1\u001b[0m train[\u001b[38;5;241m0\u001b[39m]\u001b[38;5;241m.\u001b[39mstems\n",
      "File \u001b[1;32m~\\anaconda3\\Lib\\site-packages\\musdb\\audio_classes.py:161\u001b[0m, in \u001b[0;36mMultiTrack.stems\u001b[1;34m(self)\u001b[0m\n\u001b[0;32m    158\u001b[0m \u001b[38;5;66;03m# read from disk to save RAM otherwise\u001b[39;00m\n\u001b[0;32m    159\u001b[0m \u001b[38;5;28;01melse\u001b[39;00m:\n\u001b[0;32m    160\u001b[0m     \u001b[38;5;28;01mif\u001b[39;00m \u001b[38;5;129;01mnot\u001b[39;00m \u001b[38;5;28mself\u001b[39m\u001b[38;5;241m.\u001b[39mis_wav \u001b[38;5;129;01mand\u001b[39;00m os\u001b[38;5;241m.\u001b[39mpath\u001b[38;5;241m.\u001b[39mexists(\u001b[38;5;28mself\u001b[39m\u001b[38;5;241m.\u001b[39mpath):\n\u001b[1;32m--> 161\u001b[0m         S, rate \u001b[38;5;241m=\u001b[39m stempeg\u001b[38;5;241m.\u001b[39mread_stems(\n\u001b[0;32m    162\u001b[0m             filename\u001b[38;5;241m=\u001b[39m\u001b[38;5;28mself\u001b[39m\u001b[38;5;241m.\u001b[39mpath,\n\u001b[0;32m    163\u001b[0m             start\u001b[38;5;241m=\u001b[39m\u001b[38;5;28mself\u001b[39m\u001b[38;5;241m.\u001b[39mchunk_start,\n\u001b[0;32m    164\u001b[0m             duration\u001b[38;5;241m=\u001b[39m\u001b[38;5;28mself\u001b[39m\u001b[38;5;241m.\u001b[39mchunk_duration,\n\u001b[0;32m    165\u001b[0m             info\u001b[38;5;241m=\u001b[39m\u001b[38;5;28mself\u001b[39m\u001b[38;5;241m.\u001b[39minfo,\n\u001b[0;32m    166\u001b[0m             sample_rate\u001b[38;5;241m=\u001b[39m\u001b[38;5;28mself\u001b[39m\u001b[38;5;241m.\u001b[39msample_rate,\n\u001b[0;32m    167\u001b[0m             ffmpeg_format\u001b[38;5;241m=\u001b[39m\u001b[38;5;124m\"\u001b[39m\u001b[38;5;124ms16le\u001b[39m\u001b[38;5;124m\"\u001b[39m\n\u001b[0;32m    168\u001b[0m         )\n\u001b[0;32m    169\u001b[0m     \u001b[38;5;28;01melse\u001b[39;00m:\n\u001b[0;32m    170\u001b[0m         rate \u001b[38;5;241m=\u001b[39m \u001b[38;5;28mself\u001b[39m\u001b[38;5;241m.\u001b[39mrate\n",
      "\u001b[1;31mTypeError\u001b[0m: read_stems() got an unexpected keyword argument 'sample_rate'"
     ]
    }
   ],
   "source": [
    "train[0].stems"
   ]
  },
  {
   "cell_type": "code",
   "execution_count": null,
   "id": "2912e148",
   "metadata": {},
   "outputs": [],
   "source": [
    "Audio('musdb18/train/' + os.listdir('musdb18/train')[1])"
   ]
  },
  {
   "cell_type": "code",
   "execution_count": null,
   "id": "2b602394",
   "metadata": {},
   "outputs": [],
   "source": [
    "os.listdir('musdb18/train')"
   ]
  },
  {
   "cell_type": "code",
   "execution_count": null,
   "id": "aa98c104",
   "metadata": {},
   "outputs": [],
   "source": []
  }
 ],
 "metadata": {
  "kernelspec": {
   "display_name": "Python 3 (ipykernel)",
   "language": "python",
   "name": "python3"
  },
  "language_info": {
   "codemirror_mode": {
    "name": "ipython",
    "version": 3
   },
   "file_extension": ".py",
   "mimetype": "text/x-python",
   "name": "python",
   "nbconvert_exporter": "python",
   "pygments_lexer": "ipython3",
   "version": "3.11.4"
  }
 },
 "nbformat": 4,
 "nbformat_minor": 5
}
