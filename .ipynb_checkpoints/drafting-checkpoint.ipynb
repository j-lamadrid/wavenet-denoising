{
 "cells": [
  {
   "cell_type": "code",
   "execution_count": 1,
   "id": "cea52572",
   "metadata": {},
   "outputs": [],
   "source": [
    "import torch\n",
    "import torch.nn as nn"
   ]
  },
  {
   "cell_type": "code",
   "execution_count": 2,
   "id": "9371211d",
   "metadata": {},
   "outputs": [],
   "source": [
    "class WaveNetBlock(nn.Module):\n",
    "    def __init__(self, in_channels, out_channels, kernel_size, dilation):\n",
    "        super(WaveNetBlock, self).__init__()\n",
    "        self.dilation = dilation\n",
    "        self.conv_filter = nn.Conv1d(in_channels, out_channels, kernel_size, dilation=dilation)\n",
    "        self.conv_gate = nn.Conv1d(in_channels, out_channels, kernel_size, dilation=dilation)\n",
    "        self.conv_res = nn.Conv1d(out_channels, in_channels, 1)  # Residual connection\n",
    "        self.conv_skip = nn.Conv1d(out_channels, out_channels, 1)  # Skip connection\n",
    "\n",
    "    def forward(self, x):\n",
    "        # Apply dilated convolutions\n",
    "        filter_output = torch.tanh(self.conv_filter(x))\n",
    "        gate_output = torch.sigmoid(self.conv_gate(x))\n",
    "        gated_output = filter_output * gate_output\n",
    "        \n",
    "        # Residual and skip connections\n",
    "        residual = self.conv_res(gated_output)\n",
    "        skip_connection = self.conv_skip(gated_output)\n",
    "        output = x + residual\n",
    "        \n",
    "        return output, skip_connection"
   ]
  },
  {
   "cell_type": "code",
   "execution_count": 3,
   "id": "1a8a8ee6",
   "metadata": {},
   "outputs": [],
   "source": [
    "class WaveNet(nn.Module):\n",
    "    def __init__(self, num_blocks, num_layers, in_channels, out_channels, residual_channels, skip_channels, kernel_size):\n",
    "        super(WaveNet, self).__init__()\n",
    "        self.num_blocks = num_blocks\n",
    "        self.num_layers = num_layers\n",
    "        self.in_channels = in_channels\n",
    "        self.out_channels = out_channels\n",
    "        self.residual_channels = residual_channels\n",
    "        self.skip_channels = skip_channels\n",
    "        self.kernel_size = kernel_size\n",
    "        \n",
    "        self.start_conv = nn.Conv1d(in_channels, residual_channels, 1)\n",
    "        self.blocks = nn.ModuleList([\n",
    "            WaveNetBlock(residual_channels, residual_channels, kernel_size, 2 ** i)\n",
    "            for i in range(num_layers)\n",
    "        ])\n",
    "        self.end_conv1 = nn.Conv1d(skip_channels, skip_channels, (3, 1))\n",
    "        self.end_conv2 = nn.Conv1d(skip_channels, out_channels, (3, 1))\n",
    "        \n",
    "    def forward(self, x):\n",
    "        x = self.start_conv(x)\n",
    "        skip_connections = []\n",
    "\n",
    "        for _ in range(self.num_blocks):\n",
    "            for layer in self.blocks:\n",
    "                x, skip = layer(x)\n",
    "                skip_connections.append(skip)\n",
    "\n",
    "        combined_skip = sum(skip_connections)\n",
    "        output = torch.relu(combined_skip)\n",
    "        output = self.end_conv1(output)\n",
    "        output = torch.relu(output)\n",
    "        output = self.end_conv2(output)\n",
    "        \n",
    "        return output"
   ]
  },
  {
   "cell_type": "code",
   "execution_count": 4,
   "id": "97706e3a",
   "metadata": {},
   "outputs": [],
   "source": [
    "def EnergyConservingLoss(input_mix, input_voice, input_noise, generated_voice):\n",
    "    \n",
    "    voice_diff = abs(input_voice - generated_voice)\n",
    "    noise_diff = abs(input_noise - (input_mix - generated_voice))\n",
    "    \n",
    "    loss = voice_diff + noise_diff\n",
    "    \n",
    "    return loss"
   ]
  },
  {
   "cell_type": "code",
   "execution_count": 6,
   "id": "39552f4d",
   "metadata": {},
   "outputs": [],
   "source": [
    "# Hyperparameters\n",
    "num_blocks = 3\n",
    "num_layers = 9\n",
    "in_channels = 2\n",
    "out_channels = 2\n",
    "residual_channels = 64\n",
    "skip_channels = 256\n",
    "kernel_size = 2\n",
    "\n",
    "model = WaveNet(num_blocks, num_layers, in_channels, out_channels, residual_channels, skip_channels, kernel_size)"
   ]
  },
  {
   "cell_type": "code",
   "execution_count": 7,
   "id": "848fc26b",
   "metadata": {},
   "outputs": [
    {
     "data": {
      "text/plain": [
       "WaveNet(\n",
       "  (start_conv): Conv1d(2, 64, kernel_size=(1,), stride=(1,))\n",
       "  (blocks): ModuleList(\n",
       "    (0): WaveNetBlock(\n",
       "      (conv_filter): Conv1d(64, 64, kernel_size=(2,), stride=(1,))\n",
       "      (conv_gate): Conv1d(64, 64, kernel_size=(2,), stride=(1,))\n",
       "      (conv_res): Conv1d(64, 64, kernel_size=(1,), stride=(1,))\n",
       "      (conv_skip): Conv1d(64, 64, kernel_size=(1,), stride=(1,))\n",
       "    )\n",
       "    (1): WaveNetBlock(\n",
       "      (conv_filter): Conv1d(64, 64, kernel_size=(2,), stride=(1,), dilation=(2,))\n",
       "      (conv_gate): Conv1d(64, 64, kernel_size=(2,), stride=(1,), dilation=(2,))\n",
       "      (conv_res): Conv1d(64, 64, kernel_size=(1,), stride=(1,))\n",
       "      (conv_skip): Conv1d(64, 64, kernel_size=(1,), stride=(1,))\n",
       "    )\n",
       "    (2): WaveNetBlock(\n",
       "      (conv_filter): Conv1d(64, 64, kernel_size=(2,), stride=(1,), dilation=(4,))\n",
       "      (conv_gate): Conv1d(64, 64, kernel_size=(2,), stride=(1,), dilation=(4,))\n",
       "      (conv_res): Conv1d(64, 64, kernel_size=(1,), stride=(1,))\n",
       "      (conv_skip): Conv1d(64, 64, kernel_size=(1,), stride=(1,))\n",
       "    )\n",
       "    (3): WaveNetBlock(\n",
       "      (conv_filter): Conv1d(64, 64, kernel_size=(2,), stride=(1,), dilation=(8,))\n",
       "      (conv_gate): Conv1d(64, 64, kernel_size=(2,), stride=(1,), dilation=(8,))\n",
       "      (conv_res): Conv1d(64, 64, kernel_size=(1,), stride=(1,))\n",
       "      (conv_skip): Conv1d(64, 64, kernel_size=(1,), stride=(1,))\n",
       "    )\n",
       "    (4): WaveNetBlock(\n",
       "      (conv_filter): Conv1d(64, 64, kernel_size=(2,), stride=(1,), dilation=(16,))\n",
       "      (conv_gate): Conv1d(64, 64, kernel_size=(2,), stride=(1,), dilation=(16,))\n",
       "      (conv_res): Conv1d(64, 64, kernel_size=(1,), stride=(1,))\n",
       "      (conv_skip): Conv1d(64, 64, kernel_size=(1,), stride=(1,))\n",
       "    )\n",
       "    (5): WaveNetBlock(\n",
       "      (conv_filter): Conv1d(64, 64, kernel_size=(2,), stride=(1,), dilation=(32,))\n",
       "      (conv_gate): Conv1d(64, 64, kernel_size=(2,), stride=(1,), dilation=(32,))\n",
       "      (conv_res): Conv1d(64, 64, kernel_size=(1,), stride=(1,))\n",
       "      (conv_skip): Conv1d(64, 64, kernel_size=(1,), stride=(1,))\n",
       "    )\n",
       "    (6): WaveNetBlock(\n",
       "      (conv_filter): Conv1d(64, 64, kernel_size=(2,), stride=(1,), dilation=(64,))\n",
       "      (conv_gate): Conv1d(64, 64, kernel_size=(2,), stride=(1,), dilation=(64,))\n",
       "      (conv_res): Conv1d(64, 64, kernel_size=(1,), stride=(1,))\n",
       "      (conv_skip): Conv1d(64, 64, kernel_size=(1,), stride=(1,))\n",
       "    )\n",
       "    (7): WaveNetBlock(\n",
       "      (conv_filter): Conv1d(64, 64, kernel_size=(2,), stride=(1,), dilation=(128,))\n",
       "      (conv_gate): Conv1d(64, 64, kernel_size=(2,), stride=(1,), dilation=(128,))\n",
       "      (conv_res): Conv1d(64, 64, kernel_size=(1,), stride=(1,))\n",
       "      (conv_skip): Conv1d(64, 64, kernel_size=(1,), stride=(1,))\n",
       "    )\n",
       "    (8): WaveNetBlock(\n",
       "      (conv_filter): Conv1d(64, 64, kernel_size=(2,), stride=(1,), dilation=(256,))\n",
       "      (conv_gate): Conv1d(64, 64, kernel_size=(2,), stride=(1,), dilation=(256,))\n",
       "      (conv_res): Conv1d(64, 64, kernel_size=(1,), stride=(1,))\n",
       "      (conv_skip): Conv1d(64, 64, kernel_size=(1,), stride=(1,))\n",
       "    )\n",
       "  )\n",
       "  (end_conv1): Conv1d(256, 256, kernel_size=(3, 1), stride=(1,))\n",
       "  (end_conv2): Conv1d(256, 2, kernel_size=(3, 1), stride=(1,))\n",
       ")"
      ]
     },
     "execution_count": 7,
     "metadata": {},
     "output_type": "execute_result"
    }
   ],
   "source": [
    "model()"
   ]
  },
  {
   "cell_type": "code",
   "execution_count": null,
   "id": "4e336f43",
   "metadata": {},
   "outputs": [],
   "source": []
  }
 ],
 "metadata": {
  "kernelspec": {
   "display_name": "Python 3 (ipykernel)",
   "language": "python",
   "name": "python3"
  },
  "language_info": {
   "codemirror_mode": {
    "name": "ipython",
    "version": 3
   },
   "file_extension": ".py",
   "mimetype": "text/x-python",
   "name": "python",
   "nbconvert_exporter": "python",
   "pygments_lexer": "ipython3",
   "version": "3.11.4"
  }
 },
 "nbformat": 4,
 "nbformat_minor": 5
}
